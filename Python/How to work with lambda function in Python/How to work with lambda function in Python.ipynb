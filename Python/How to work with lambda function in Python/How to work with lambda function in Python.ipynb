{
 "cells": [
  {
   "cell_type": "code",
   "execution_count": 10,
   "id": "28d6be66",
   "metadata": {},
   "outputs": [
    {
     "ename": "SyntaxError",
     "evalue": "invalid syntax (Temp/ipykernel_19024/4178910607.py, line 3)",
     "output_type": "error",
     "traceback": [
      "\u001b[1;36m  File \u001b[1;32m\"C:\\Users\\AIZHAM~1.ZHE\\AppData\\Local\\Temp/ipykernel_19024/4178910607.py\"\u001b[1;36m, line \u001b[1;32m3\u001b[0m\n\u001b[1;33m    add = (lambda x: return x + 7)(3)\u001b[0m\n\u001b[1;37m                     ^\u001b[0m\n\u001b[1;31mSyntaxError\u001b[0m\u001b[1;31m:\u001b[0m invalid syntax\n"
     ]
    }
   ],
   "source": [
    "# Returning argument (3) after adding 7 to it\n",
    "add = (lambda x: return x + 7)(3)\n",
    "\n",
    "print(add)"
   ]
  },
  {
   "cell_type": "code",
   "execution_count": 12,
   "id": "a395e609",
   "metadata": {},
   "outputs": [
    {
     "name": "stdout",
     "output_type": "stream",
     "text": [
      "Output is 10\n"
     ]
    }
   ],
   "source": [
    "# Addition using lambda function\n",
    "add = (lambda x: x + 7)(3)\n",
    "\n",
    "print('Output is', add)"
   ]
  },
  {
   "cell_type": "code",
   "execution_count": 20,
   "id": "301f5c66",
   "metadata": {},
   "outputs": [
    {
     "name": "stdout",
     "output_type": "stream",
     "text": [
      "3 is odd\n"
     ]
    }
   ],
   "source": [
    "# Single expression, which is in two lines, but still single\n",
    "single = (lambda x:\n",
    "(x % 2 and 'odd' or 'even'))(3)\n",
    "\n",
    "print('3 is',single)"
   ]
  },
  {
   "cell_type": "code",
   "execution_count": 19,
   "id": "69fc5b52",
   "metadata": {},
   "outputs": [
    {
     "name": "stdout",
     "output_type": "stream",
     "text": [
      "lambda function returns - 4\n"
     ]
    }
   ],
   "source": [
    "# lamda function here immediately returns us x in the power of x\n",
    "iife = (lambda x: x ** x)(2)\n",
    "\n",
    "print('lambda function returns -',iife)"
   ]
  },
  {
   "cell_type": "code",
   "execution_count": 149,
   "id": "08ca718f",
   "metadata": {},
   "outputs": [
    {
     "name": "stdout",
     "output_type": "stream",
     "text": [
      "  5           0 LOAD_FAST                0 (x)\n",
      "              2 LOAD_FAST                1 (y)\n",
      "              4 BINARY_ADD\n",
      "              6 RETURN_VALUE\n",
      "<function <lambda> at 0x000001BFCDAC4430>\n"
     ]
    }
   ],
   "source": [
    "# Importing dis module\n",
    "import dis\n",
    "\n",
    "# Calling lambda function\n",
    "add = lambda x, y: x + y\n",
    "\n",
    "# Finding class type of the argument 'add'\n",
    "type(add)\n",
    "\n",
    "# Applying dis method \n",
    "dis.dis(add)\n",
    "\n",
    "print(add)"
   ]
  },
  {
   "cell_type": "code",
   "execution_count": 23,
   "id": "f914450a",
   "metadata": {},
   "outputs": [
    {
     "name": "stdout",
     "output_type": "stream",
     "text": [
      "  6           0 LOAD_FAST                0 (x)\n",
      "              2 LOAD_FAST                1 (y)\n",
      "              4 BINARY_ADD\n",
      "              6 RETURN_VALUE\n",
      "<function add at 0x000001BFCB408940>\n"
     ]
    }
   ],
   "source": [
    "# Importing dis module\n",
    "import dis\n",
    "\n",
    "# Calling function regular function\n",
    "def add(x, y): \n",
    "    return x + y\n",
    "\n",
    "# Finding class type of the argument 'add'\n",
    "type(add)\n",
    "\n",
    "# Applying dis method \n",
    "dis.dis(add)\n",
    "\n",
    "print(add)"
   ]
  },
  {
   "cell_type": "code",
   "execution_count": 26,
   "id": "cede45ba",
   "metadata": {},
   "outputs": [
    {
     "name": "stdout",
     "output_type": "stream",
     "text": [
      "Output of the arg1 is 6\n",
      "Output of the arg2 is 6\n",
      "Output of the arg3 is 6\n",
      "Output of the arg4 is 6\n",
      "Output of the arg5 is 6\n",
      "Output of the arg6 is 6\n"
     ]
    }
   ],
   "source": [
    "# Summing of positional arguments\n",
    "arg1 = (lambda x, y, z: x + y + z)(1, 2, 3)\n",
    "\n",
    "print('Output of the arg1 is',arg1)\n",
    "\n",
    "# Summing of named arguments\n",
    "arg2 = (lambda x, y, z=3: x + y + z)(1, 2)\n",
    "\n",
    "print('Output of the arg2 is',arg2)\n",
    "\n",
    "# Summing of mixed arguments, positional and named \n",
    "arg3 = (lambda x, y, z=3: x + y + z)(1, y=2)\n",
    "\n",
    "print('Output of the arg3 is',arg3)\n",
    "\n",
    "# Performing sum operation on the vararg \"*args\"\n",
    "arg4 = (lambda *args: sum(args))(1,2,3)\n",
    "\n",
    "print('Output of the arg4 is',arg4)\n",
    "\n",
    "# Performing sum operation on the variable list of keyword arguments\n",
    "arg5 = (lambda **kwargs: sum(kwargs.values()))(one=1, two=2, three=3)\n",
    "\n",
    "print('Output of the arg5 is',arg5)\n",
    "\n",
    "# Performing sum operation on the keyword-only argument\n",
    "arg6 = (lambda x, *, y=0, z=0: x + y + z)(1, y=2, z=3)\n",
    "\n",
    "print('Output of the arg6 is',arg6)"
   ]
  },
  {
   "cell_type": "code",
   "execution_count": 34,
   "id": "b361aaa0",
   "metadata": {},
   "outputs": [
    {
     "name": "stdout",
     "output_type": "stream",
     "text": [
      "x = 0, y = 10, z = 0\n",
      "closure(0) = 10\n",
      "x = 1, y = 10, z = 1\n",
      "closure(1) = 12\n",
      "x = 2, y = 10, z = 2\n",
      "closure(2) = 14\n",
      "x = 3, y = 10, z = 3\n",
      "closure(3) = 16\n",
      "x = 4, y = 10, z = 4\n",
      "closure(4) = 18\n"
     ]
    }
   ],
   "source": [
    "# Defining a nested function for summing the three arguments\n",
    "def out_func(x):         # x argument is for the outer function\n",
    "    y = 10               # y is a local variable to the outer function\n",
    "    def inn_func(z):     # z argument for the inner function\n",
    "        print(f\"x = {x}, y = {y}, z = {z}\")\n",
    "        return x + y + z\n",
    "    return inn_func\n",
    "\n",
    "# Iterating 5 times for loop\n",
    "for i in range(5):\n",
    "    closure = out_func(i)\n",
    "    print(f\"closure({i}) = {closure(i)}\")"
   ]
  },
  {
   "cell_type": "code",
   "execution_count": 33,
   "id": "50b2c96f",
   "metadata": {},
   "outputs": [
    {
     "name": "stdout",
     "output_type": "stream",
     "text": [
      "closure(0) = 10\n",
      "closure(1) = 12\n",
      "closure(2) = 14\n",
      "closure(3) = 16\n",
      "closure(4) = 18\n"
     ]
    }
   ],
   "source": [
    "# Defining a nested function for summing the three arguments\n",
    "def outer_func(x):                  # x argument is for the outer function\n",
    "    y = 10                          # y is a local variable to the outer function\n",
    "    return lambda z: x + y + z      # z argument for the inner function\n",
    "\n",
    "# Iterating 5 times for loop\n",
    "for i in range(5):\n",
    "    closure = outer_func(i)\n",
    "    print(f\"closure({i}) = {closure(i)}\")"
   ]
  },
  {
   "cell_type": "code",
   "execution_count": 37,
   "id": "9eeceb50",
   "metadata": {},
   "outputs": [
    {
     "name": "stdout",
     "output_type": "stream",
     "text": [
      "one\n",
      "two\n",
      "three\n"
     ]
    }
   ],
   "source": [
    "# Defining a nested function\n",
    "def main(n):\n",
    "    def f():\n",
    "        print(n)\n",
    "    return f\n",
    "\n",
    "# Assigning the values\n",
    "nums = 'one', 'two', 'three'\n",
    "\n",
    "# Creating an empty list\n",
    "func = []\n",
    "\n",
    "# Using a for loop and applying \"append\" method to our function\n",
    "for n in numbers:\n",
    "    func.append(main(n))\n",
    "\n",
    "for f in func:\n",
    "    f()"
   ]
  },
  {
   "cell_type": "code",
   "execution_count": 45,
   "id": "150f8886",
   "metadata": {},
   "outputs": [
    {
     "name": "stdout",
     "output_type": "stream",
     "text": [
      "three\n",
      "three\n",
      "three\n"
     ]
    }
   ],
   "source": [
    "# Assigning the values\n",
    "nums = 'one', 'two', 'three'\n",
    "\n",
    "# Creating an empty list\n",
    "func = []\n",
    "\n",
    "# Using a for loop and applying \"append\" method to lambda\n",
    "for n in nums:\n",
    "    func.append(lambda: print(n))\n",
    "\n",
    "for f in func:\n",
    "    f()"
   ]
  },
  {
   "cell_type": "code",
   "execution_count": 48,
   "id": "f8c8fc69",
   "metadata": {},
   "outputs": [
    {
     "name": "stdout",
     "output_type": "stream",
     "text": [
      "one\n",
      "two\n",
      "three\n"
     ]
    }
   ],
   "source": [
    "# Assigning the values\n",
    "nums = 'one', 'two', 'three'\n",
    "\n",
    "# Creating an empty list\n",
    "func = []\n",
    "\n",
    "# Using a for loop and applying \"append\" method to lambda by defining variables\n",
    "for n in nums:\n",
    "    func.append(lambda n=n: print(n))\n",
    "\n",
    "for f in func:\n",
    "    f()\n"
   ]
  },
  {
   "cell_type": "code",
   "execution_count": 50,
   "id": "c4e24b8f",
   "metadata": {},
   "outputs": [
    {
     "ename": "SyntaxError",
     "evalue": "invalid syntax (Temp/ipykernel_19024/3130997870.py, line 1)",
     "output_type": "error",
     "traceback": [
      "\u001b[1;36m  File \u001b[1;32m\"C:\\Users\\AIZHAM~1.ZHE\\AppData\\Local\\Temp/ipykernel_19024/3130997870.py\"\u001b[1;36m, line \u001b[1;32m1\u001b[0m\n\u001b[1;33m    err = lambda: raise Exception()\u001b[0m\n\u001b[1;37m                  ^\u001b[0m\n\u001b[1;31mSyntaxError\u001b[0m\u001b[1;31m:\u001b[0m invalid syntax\n"
     ]
    }
   ],
   "source": [
    "# Using raise statement to get Exceprion\n",
    "err = lambda: raise Exception()\n",
    "\n",
    "print(err)"
   ]
  },
  {
   "cell_type": "code",
   "execution_count": 52,
   "id": "b6561213",
   "metadata": {},
   "outputs": [
    {
     "ename": "Exception",
     "evalue": "for the tutorial",
     "output_type": "error",
     "traceback": [
      "\u001b[1;31m---------------------------------------------------------------------------\u001b[0m",
      "\u001b[1;31mException\u001b[0m                                 Traceback (most recent call last)",
      "\u001b[1;32mC:\\Users\\AIZHAM~1.ZHE\\AppData\\Local\\Temp/ipykernel_19024/2639457842.py\u001b[0m in \u001b[0;36m<module>\u001b[1;34m\u001b[0m\n\u001b[0;32m      1\u001b[0m \u001b[1;32mdef\u001b[0m \u001b[0mthrow\u001b[0m\u001b[1;33m(\u001b[0m\u001b[0mex\u001b[0m\u001b[1;33m)\u001b[0m\u001b[1;33m:\u001b[0m \u001b[1;32mraise\u001b[0m \u001b[0mex\u001b[0m\u001b[1;33m\u001b[0m\u001b[1;33m\u001b[0m\u001b[0m\n\u001b[1;32m----> 2\u001b[1;33m \u001b[1;33m(\u001b[0m\u001b[1;32mlambda\u001b[0m\u001b[1;33m:\u001b[0m \u001b[0mthrow\u001b[0m\u001b[1;33m(\u001b[0m\u001b[0mException\u001b[0m\u001b[1;33m(\u001b[0m\u001b[1;34m'for the tutorial'\u001b[0m\u001b[1;33m)\u001b[0m\u001b[1;33m)\u001b[0m\u001b[1;33m)\u001b[0m\u001b[1;33m(\u001b[0m\u001b[1;33m)\u001b[0m\u001b[1;33m\u001b[0m\u001b[1;33m\u001b[0m\u001b[0m\n\u001b[0m",
      "\u001b[1;32mC:\\Users\\AIZHAM~1.ZHE\\AppData\\Local\\Temp/ipykernel_19024/2639457842.py\u001b[0m in \u001b[0;36m<lambda>\u001b[1;34m()\u001b[0m\n\u001b[0;32m      1\u001b[0m \u001b[1;32mdef\u001b[0m \u001b[0mthrow\u001b[0m\u001b[1;33m(\u001b[0m\u001b[0mex\u001b[0m\u001b[1;33m)\u001b[0m\u001b[1;33m:\u001b[0m \u001b[1;32mraise\u001b[0m \u001b[0mex\u001b[0m\u001b[1;33m\u001b[0m\u001b[1;33m\u001b[0m\u001b[0m\n\u001b[1;32m----> 2\u001b[1;33m \u001b[1;33m(\u001b[0m\u001b[1;32mlambda\u001b[0m\u001b[1;33m:\u001b[0m \u001b[0mthrow\u001b[0m\u001b[1;33m(\u001b[0m\u001b[0mException\u001b[0m\u001b[1;33m(\u001b[0m\u001b[1;34m'for the tutorial'\u001b[0m\u001b[1;33m)\u001b[0m\u001b[1;33m)\u001b[0m\u001b[1;33m)\u001b[0m\u001b[1;33m(\u001b[0m\u001b[1;33m)\u001b[0m\u001b[1;33m\u001b[0m\u001b[1;33m\u001b[0m\u001b[0m\n\u001b[0m",
      "\u001b[1;32mC:\\Users\\AIZHAM~1.ZHE\\AppData\\Local\\Temp/ipykernel_19024/2639457842.py\u001b[0m in \u001b[0;36mthrow\u001b[1;34m(ex)\u001b[0m\n\u001b[1;32m----> 1\u001b[1;33m \u001b[1;32mdef\u001b[0m \u001b[0mthrow\u001b[0m\u001b[1;33m(\u001b[0m\u001b[0mex\u001b[0m\u001b[1;33m)\u001b[0m\u001b[1;33m:\u001b[0m \u001b[1;32mraise\u001b[0m \u001b[0mex\u001b[0m\u001b[1;33m\u001b[0m\u001b[1;33m\u001b[0m\u001b[0m\n\u001b[0m\u001b[0;32m      2\u001b[0m \u001b[1;33m(\u001b[0m\u001b[1;32mlambda\u001b[0m\u001b[1;33m:\u001b[0m \u001b[0mthrow\u001b[0m\u001b[1;33m(\u001b[0m\u001b[0mException\u001b[0m\u001b[1;33m(\u001b[0m\u001b[1;34m'for the tutorial'\u001b[0m\u001b[1;33m)\u001b[0m\u001b[1;33m)\u001b[0m\u001b[1;33m)\u001b[0m\u001b[1;33m(\u001b[0m\u001b[1;33m)\u001b[0m\u001b[1;33m\u001b[0m\u001b[1;33m\u001b[0m\u001b[0m\n",
      "\u001b[1;31mException\u001b[0m: for the tutorial"
     ]
    }
   ],
   "source": [
    "def throw(ex): raise ex\n",
    "(lambda: throw(Exception('for the tutorial')))()"
   ]
  },
  {
   "cell_type": "code",
   "execution_count": 69,
   "id": "e8ccca4a",
   "metadata": {},
   "outputs": [
    {
     "ename": "SyntaxError",
     "evalue": "invalid syntax (Temp/ipykernel_19024/319190481.py, line 5)",
     "output_type": "error",
     "traceback": [
      "\u001b[1;36m  File \u001b[1;32m\"C:\\Users\\AIZHAM~1.ZHE\\AppData\\Local\\Temp/ipykernel_19024/319190481.py\"\u001b[1;36m, line \u001b[1;32m5\u001b[0m\n\u001b[1;33m    print self.errorify(\"try2\")\u001b[0m\n\u001b[1;37m          ^\u001b[0m\n\u001b[1;31mSyntaxError\u001b[0m\u001b[1;31m:\u001b[0m invalid syntax\n"
     ]
    }
   ],
   "source": [
    "class BaseClass(object):\n",
    "    successify = lambda x: \"<Success>%s</Success>\" % x\n",
    "    errorify = lambda x: \"<Error>%s</Error>\" % x\n",
    "    def try2(self):\n",
    "        print self.errorify(\"try2\")"
   ]
  },
  {
   "cell_type": "code",
   "execution_count": 94,
   "id": "a9e0baf0",
   "metadata": {},
   "outputs": [
    {
     "name": "stdout",
     "output_type": "stream",
     "text": [
      "    Name    Status  Birthyear\n",
      "0  Scott    Father       1976\n",
      "1   Elly    Mother       1980\n",
      "2  Samat       Son       2002\n",
      "3  Emily  Daughter       2012\n"
     ]
    }
   ],
   "source": [
    "# Importing pandas\n",
    "import pandas as pd\n",
    "\n",
    "# Creating DataFrame\n",
    "df = pd.DataFrame({\n",
    "    'Name': ['Scott','Elly','Samat','Emily'],\n",
    "    'Status': ['Father', 'Mother', 'Son', 'Daughter'],\n",
    "    'Birthyear': [1976, 1980, 2002, 2012],})\n",
    "\n",
    "print(df)"
   ]
  },
  {
   "cell_type": "code",
   "execution_count": 102,
   "id": "0e330d94",
   "metadata": {},
   "outputs": [
    {
     "name": "stdout",
     "output_type": "stream",
     "text": [
      "    Name    Status  Birthyear  Age\n",
      "0  Scott    Father       1976   45\n",
      "1   Elly    Mother       1980   41\n",
      "2  Samat       Son       2002   19\n",
      "3  Emily  Daughter       2012    9\n"
     ]
    }
   ],
   "source": [
    "# Applying lambda function to get the current age of each member\n",
    "df['Age'] = df['Birthyear'].apply(lambda x: 2021-x)\n",
    "\n",
    "print(df)"
   ]
  },
  {
   "cell_type": "code",
   "execution_count": 152,
   "id": "e73bec67",
   "metadata": {},
   "outputs": [
    {
     "data": {
      "text/plain": [
       "'a | b | c'"
      ]
     },
     "execution_count": 152,
     "metadata": {},
     "output_type": "execute_result"
    }
   ],
   "source": [
    "# importing functools\n",
    "from functools import reduce\n",
    "\n",
    "# Using reduce\n",
    "reduce(lambda acc, x: f'{acc} | {x}', ['a', 'b', 'c'])"
   ]
  },
  {
   "cell_type": "code",
   "execution_count": 151,
   "id": "46a6c55d",
   "metadata": {},
   "outputs": [
    {
     "data": {
      "text/plain": [
       "['c']"
      ]
     },
     "execution_count": 151,
     "metadata": {},
     "output_type": "execute_result"
    }
   ],
   "source": [
    "# Using filter()\n",
    "list(filter(lambda x: 'c' in x, ['a', 'b', 'c']))"
   ]
  },
  {
   "cell_type": "code",
   "execution_count": 132,
   "id": "9a22c8ef",
   "metadata": {},
   "outputs": [
    {
     "name": "stdout",
     "output_type": "stream",
     "text": [
      "['A', 'B', 'C']\n"
     ]
    }
   ],
   "source": [
    "names = ['a', 'b', 'c']\n",
    "\n",
    "# printing list and capitalizing without using lambda\n",
    "print([x.upper() for x in names])"
   ]
  },
  {
   "cell_type": "code",
   "execution_count": 146,
   "id": "09b47c40",
   "metadata": {},
   "outputs": [
    {
     "name": "stdout",
     "output_type": "stream",
     "text": [
      "['id1', 'id100', 'id2', 'id22', 'id3', 'id30']\n",
      "['id1', 'id2', 'id3', 'id22', 'id30', 'id100']\n"
     ]
    }
   ],
   "source": [
    "# Creating a list \n",
    "people = ['id1', 'id2', 'id30', 'id3', 'id22', 'id100']\n",
    "\n",
    "print(sorted(people)) # Lexicographic sorting\n",
    "\n",
    "sorted_people = sorted(people, key=lambda x: int(x[2:])) # Integer sorting\n",
    "\n",
    "print(sorted_people)"
   ]
  },
  {
   "cell_type": "code",
   "execution_count": 148,
   "id": "1aea5376",
   "metadata": {},
   "outputs": [],
   "source": [
    "# Importing tkinter \n",
    "import tkinter as tk\n",
    "import sys    # Importing sys\n",
    "\n",
    "# Creating window\n",
    "window = tk.Tk()\n",
    "\n",
    "# Creating one grid\n",
    "window.grid_columnconfigure(0, weight=1)\n",
    "\n",
    "# Name of our window\n",
    "window.title(\"Lambda\")\n",
    "\n",
    "# Size of our window\n",
    "window.geometry(\"300x100\")\n",
    "\n",
    "# Assigning our text to the label in the window\n",
    "label = tk.Label(window, text=\"Lambda Function\")\n",
    "label.grid(column=0, row=0)\n",
    "\n",
    "# Function & name of our button\n",
    "button = tk.Button(\n",
    "    window,\n",
    "    text=\"Reverse\",\n",
    "    \n",
    "    # Reverse function using lambda\n",
    "    command=lambda: label.configure(text=label.cget(\"text\")[::-1]),)\n",
    "\n",
    "# Creating grid for our button\n",
    "button.grid(column=0, row=1)\n",
    "\n",
    "window.mainloop()"
   ]
  },
  {
   "cell_type": "code",
   "execution_count": null,
   "id": "dacb71a3",
   "metadata": {},
   "outputs": [],
   "source": []
  }
 ],
 "metadata": {
  "kernelspec": {
   "display_name": "Python 3 (ipykernel)",
   "language": "python",
   "name": "python3"
  },
  "language_info": {
   "codemirror_mode": {
    "name": "ipython",
    "version": 3
   },
   "file_extension": ".py",
   "mimetype": "text/x-python",
   "name": "python",
   "nbconvert_exporter": "python",
   "pygments_lexer": "ipython3",
   "version": "3.9.7"
  }
 },
 "nbformat": 4,
 "nbformat_minor": 5
}
