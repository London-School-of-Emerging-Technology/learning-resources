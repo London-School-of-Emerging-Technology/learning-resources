{
 "cells": [
  {
   "cell_type": "code",
   "execution_count": 2,
   "id": "899da674",
   "metadata": {
    "scrolled": false
   },
   "outputs": [
    {
     "data": {
      "text/html": [
       "<div>\n",
       "<style scoped>\n",
       "    .dataframe tbody tr th:only-of-type {\n",
       "        vertical-align: middle;\n",
       "    }\n",
       "\n",
       "    .dataframe tbody tr th {\n",
       "        vertical-align: top;\n",
       "    }\n",
       "\n",
       "    .dataframe thead th {\n",
       "        text-align: right;\n",
       "    }\n",
       "</style>\n",
       "<table border=\"1\" class=\"dataframe\">\n",
       "  <thead>\n",
       "    <tr style=\"text-align: right;\">\n",
       "      <th></th>\n",
       "      <th>Country</th>\n",
       "      <th>Air Quality Index</th>\n",
       "      <th>Year</th>\n",
       "      <th>Status</th>\n",
       "      <th>Continent</th>\n",
       "    </tr>\n",
       "  </thead>\n",
       "  <tbody>\n",
       "    <tr>\n",
       "      <th>0</th>\n",
       "      <td>Bangladesh</td>\n",
       "      <td>173</td>\n",
       "      <td>2021</td>\n",
       "      <td>Poor</td>\n",
       "      <td>South Asia</td>\n",
       "    </tr>\n",
       "    <tr>\n",
       "      <th>1</th>\n",
       "      <td>Chad</td>\n",
       "      <td>147</td>\n",
       "      <td>2021</td>\n",
       "      <td>Poor</td>\n",
       "      <td>Africa</td>\n",
       "    </tr>\n",
       "    <tr>\n",
       "      <th>2</th>\n",
       "      <td>Pakistan</td>\n",
       "      <td>131</td>\n",
       "      <td>2021</td>\n",
       "      <td>Poor</td>\n",
       "      <td>South Asia</td>\n",
       "    </tr>\n",
       "    <tr>\n",
       "      <th>3</th>\n",
       "      <td>Tajikistan</td>\n",
       "      <td>116</td>\n",
       "      <td>2021</td>\n",
       "      <td>Poor</td>\n",
       "      <td>Central Asia</td>\n",
       "    </tr>\n",
       "    <tr>\n",
       "      <th>4</th>\n",
       "      <td>Mongolia</td>\n",
       "      <td>107</td>\n",
       "      <td>2021</td>\n",
       "      <td>Poor</td>\n",
       "      <td>Asia</td>\n",
       "    </tr>\n",
       "    <tr>\n",
       "      <th>5</th>\n",
       "      <td>Uganda</td>\n",
       "      <td>99</td>\n",
       "      <td>2021</td>\n",
       "      <td>Moderate</td>\n",
       "      <td>Africa</td>\n",
       "    </tr>\n",
       "    <tr>\n",
       "      <th>6</th>\n",
       "      <td>United Arab Emirates</td>\n",
       "      <td>95</td>\n",
       "      <td>2021</td>\n",
       "      <td>Moderate</td>\n",
       "      <td>Asia</td>\n",
       "    </tr>\n",
       "    <tr>\n",
       "      <th>7</th>\n",
       "      <td>Uzbekistan</td>\n",
       "      <td>90</td>\n",
       "      <td>2021</td>\n",
       "      <td>Moderate</td>\n",
       "      <td>Central Asia</td>\n",
       "    </tr>\n",
       "    <tr>\n",
       "      <th>8</th>\n",
       "      <td>India</td>\n",
       "      <td>88</td>\n",
       "      <td>2021</td>\n",
       "      <td>Moderate</td>\n",
       "      <td>South Asia</td>\n",
       "    </tr>\n",
       "    <tr>\n",
       "      <th>9</th>\n",
       "      <td>Kyrgyzstan</td>\n",
       "      <td>61</td>\n",
       "      <td>2021</td>\n",
       "      <td>Moderate</td>\n",
       "      <td>Central Asia</td>\n",
       "    </tr>\n",
       "  </tbody>\n",
       "</table>\n",
       "</div>"
      ],
      "text/plain": [
       "                Country  Air Quality Index  Year    Status     Continent\n",
       "0            Bangladesh                173  2021      Poor    South Asia\n",
       "1                  Chad                147  2021      Poor        Africa\n",
       "2              Pakistan                131  2021      Poor    South Asia\n",
       "3            Tajikistan                116  2021      Poor  Central Asia\n",
       "4              Mongolia                107  2021      Poor          Asia\n",
       "5                Uganda                 99  2021  Moderate        Africa\n",
       "6  United Arab Emirates                 95  2021  Moderate          Asia\n",
       "7            Uzbekistan                 90  2021  Moderate  Central Asia\n",
       "8                 India                 88  2021  Moderate    South Asia\n",
       "9            Kyrgyzstan                 61  2021  Moderate  Central Asia"
      ]
     },
     "execution_count": 2,
     "metadata": {},
     "output_type": "execute_result"
    }
   ],
   "source": [
    "# Importing pandas\n",
    "import pandas as pd\n",
    "\n",
    "# Openning our csv file\n",
    "df = pd.read_csv(\"AQ.csv\")\n",
    "\n",
    "# Showing the content of our csv file\n",
    "df"
   ]
  },
  {
   "cell_type": "code",
   "execution_count": 3,
   "id": "edf63ceb",
   "metadata": {},
   "outputs": [
    {
     "name": "stdout",
     "output_type": "stream",
     "text": [
      "<pandas.core.groupby.generic.DataFrameGroupBy object at 0x0000029683AC1850>\n"
     ]
    }
   ],
   "source": [
    "# Grouping data by one column\n",
    "cont = df.groupby('Continent')\n",
    "\n",
    "# Printing the dataset after using 'groupby' by 'Continent'\n",
    "print(cont)"
   ]
  },
  {
   "cell_type": "code",
   "execution_count": 4,
   "id": "56a037e3",
   "metadata": {},
   "outputs": [
    {
     "name": "stdout",
     "output_type": "stream",
     "text": [
      "{'Africa': [1, 5], 'Asia': [4, 6], 'Central Asia': [3, 7, 9], 'South Asia': [0, 2, 8]}\n"
     ]
    }
   ],
   "source": [
    "# Printing the data from the object using 'groups' method\n",
    "print(cont.groups)"
   ]
  },
  {
   "cell_type": "code",
   "execution_count": 5,
   "id": "8e3aeb75",
   "metadata": {
    "scrolled": true
   },
   "outputs": [
    {
     "name": "stdout",
     "output_type": "stream",
     "text": [
      "              Country  Air Quality Index  Year  Status\n",
      "Continent                                             \n",
      "Africa              2                  2     2       2\n",
      "Asia                2                  2     2       2\n",
      "Central Asia        3                  3     3       3\n",
      "South Asia          3                  3     3       3\n"
     ]
    }
   ],
   "source": [
    "# Showing the groups in the table using 'count' method\n",
    "print(cont.count())"
   ]
  },
  {
   "cell_type": "code",
   "execution_count": 6,
   "id": "63b0ed1c",
   "metadata": {},
   "outputs": [
    {
     "name": "stdout",
     "output_type": "stream",
     "text": [
      "{('Moderate', 'Africa'): [5], ('Moderate', 'Asia'): [6], ('Moderate', 'Central Asia'): [7, 9], ('Moderate', 'South Asia'): [8], ('Poor', 'Africa'): [1], ('Poor', 'Asia'): [4], ('Poor', 'Central Asia'): [3], ('Poor', 'South Asia'): [0, 2]}\n"
     ]
    }
   ],
   "source": [
    "# Grouping data by two column 'Status' and 'Continent'\n",
    "AQ = df.groupby(['Status','Continent'])\n",
    "\n",
    "# Printing grouped data\n",
    "print(AQ.groups)"
   ]
  },
  {
   "cell_type": "code",
   "execution_count": 7,
   "id": "1e952c05",
   "metadata": {},
   "outputs": [
    {
     "name": "stdout",
     "output_type": "stream",
     "text": [
      "                       Country  Air Quality Index  Year\n",
      "Status   Continent                                     \n",
      "Moderate Africa              1                  1     1\n",
      "         Asia                1                  1     1\n",
      "         Central Asia        2                  2     2\n",
      "         South Asia          1                  1     1\n",
      "Poor     Africa              1                  1     1\n",
      "         Asia                1                  1     1\n",
      "         Central Asia        1                  1     1\n",
      "         South Asia          2                  2     2\n"
     ]
    }
   ],
   "source": [
    "# Showing the groups based on two columns in the table using 'count' method\n",
    "print(AQ.count())"
   ]
  },
  {
   "cell_type": "code",
   "execution_count": 8,
   "id": "cbc1139d",
   "metadata": {},
   "outputs": [
    {
     "name": "stdout",
     "output_type": "stream",
     "text": [
      "                                                 Air Quality Index\n",
      "Year Status   Continent    Country                                \n",
      "2021 Moderate Africa       Uganda                                1\n",
      "              Asia         United Arab Emirates                  1\n",
      "              Central Asia Kyrgyzstan                            1\n",
      "                           Uzbekistan                            1\n",
      "              South Asia   India                                 1\n",
      "     Poor     Africa       Chad                                  1\n",
      "              Asia         Mongolia                              1\n",
      "              Central Asia Tajikistan                            1\n",
      "              South Asia   Bangladesh                            1\n",
      "                           Pakistan                              1\n"
     ]
    }
   ],
   "source": [
    "# Grouping data by three columns 'Status','Continent' and 'Country'\n",
    "AQ = df.groupby(['Year','Status','Continent','Country'])\n",
    "\n",
    "# Printing grouped data\n",
    "print(AQ.count())"
   ]
  },
  {
   "cell_type": "code",
   "execution_count": 9,
   "id": "a48ae322",
   "metadata": {},
   "outputs": [
    {
     "name": "stdout",
     "output_type": "stream",
     "text": [
      "Africa\n",
      "  Country  Air Quality Index  Year    Status Continent\n",
      "1    Chad                147  2021      Poor    Africa\n",
      "5  Uganda                 99  2021  Moderate    Africa\n",
      "Asia\n",
      "                Country  Air Quality Index  Year    Status Continent\n",
      "4              Mongolia                107  2021      Poor      Asia\n",
      "6  United Arab Emirates                 95  2021  Moderate      Asia\n",
      "Central Asia\n",
      "      Country  Air Quality Index  Year    Status     Continent\n",
      "3  Tajikistan                116  2021      Poor  Central Asia\n",
      "7  Uzbekistan                 90  2021  Moderate  Central Asia\n",
      "9  Kyrgyzstan                 61  2021  Moderate  Central Asia\n",
      "South Asia\n",
      "      Country  Air Quality Index  Year    Status   Continent\n",
      "0  Bangladesh                173  2021      Poor  South Asia\n",
      "2    Pakistan                131  2021      Poor  South Asia\n",
      "8       India                 88  2021  Moderate  South Asia\n"
     ]
    }
   ],
   "source": [
    "# Impoting pandas\n",
    "import pandas as pd\n",
    "\n",
    "# Openning dataset\n",
    "df = pd.read_csv(\"AQ.csv\")\n",
    "\n",
    "# Creating group based on one columns using pandas groupby method\n",
    "groups = df.groupby(\"Continent\")\n",
    "\n",
    "# Iterating over groups using for loop\n",
    "for continent, value in groups:\n",
    "    print(continent)\n",
    "    print(value)"
   ]
  },
  {
   "cell_type": "code",
   "execution_count": 10,
   "id": "648fc4be",
   "metadata": {},
   "outputs": [
    {
     "name": "stdout",
     "output_type": "stream",
     "text": [
      "      Country  Air Quality Index  Year Status   Continent\n",
      "0  Bangladesh                173  2021   Poor  South Asia\n",
      "2    Pakistan                131  2021   Poor  South Asia\n"
     ]
    }
   ],
   "source": [
    "# Creating groups by two columns\n",
    "groups = df.groupby([\"Continent\",\"Status\"])\n",
    "\n",
    "# Calling 'get_group' method to access to two grouped columns values\n",
    "asia = groups.get_group((\"South Asia\",\"Poor\"))\n",
    "\n",
    "# Printing the result\n",
    "print(asia)\n"
   ]
  },
  {
   "cell_type": "code",
   "execution_count": 11,
   "id": "80c0b06d",
   "metadata": {},
   "outputs": [
    {
     "name": "stdout",
     "output_type": "stream",
     "text": [
      "('Africa', 'Chad')\n",
      "  Country  Air Quality Index  Year Status Continent\n",
      "1    Chad                147  2021   Poor    Africa\n",
      "('Africa', 'Uganda')\n",
      "  Country  Air Quality Index  Year    Status Continent\n",
      "5  Uganda                 99  2021  Moderate    Africa\n",
      "('Asia', 'Mongolia')\n",
      "    Country  Air Quality Index  Year Status Continent\n",
      "4  Mongolia                107  2021   Poor      Asia\n",
      "('Asia', 'United Arab Emirates')\n",
      "                Country  Air Quality Index  Year    Status Continent\n",
      "6  United Arab Emirates                 95  2021  Moderate      Asia\n",
      "('Central Asia', 'Kyrgyzstan')\n",
      "      Country  Air Quality Index  Year    Status     Continent\n",
      "9  Kyrgyzstan                 61  2021  Moderate  Central Asia\n",
      "('Central Asia', 'Tajikistan')\n",
      "      Country  Air Quality Index  Year Status     Continent\n",
      "3  Tajikistan                116  2021   Poor  Central Asia\n",
      "('Central Asia', 'Uzbekistan')\n",
      "      Country  Air Quality Index  Year    Status     Continent\n",
      "7  Uzbekistan                 90  2021  Moderate  Central Asia\n",
      "('South Asia', 'Bangladesh')\n",
      "      Country  Air Quality Index  Year Status   Continent\n",
      "0  Bangladesh                173  2021   Poor  South Asia\n",
      "('South Asia', 'India')\n",
      "  Country  Air Quality Index  Year    Status   Continent\n",
      "8   India                 88  2021  Moderate  South Asia\n",
      "('South Asia', 'Pakistan')\n",
      "    Country  Air Quality Index  Year Status   Continent\n",
      "2  Pakistan                131  2021   Poor  South Asia\n"
     ]
    }
   ],
   "source": [
    "# Creating group based on two columns using pandas groupby method\n",
    "groups = df.groupby([\"Continent\",\"Country\"])\n",
    "\n",
    "# Iterating over groups using for loop\n",
    "for continent, value in groups:\n",
    "    print(continent)\n",
    "    print(value)"
   ]
  },
  {
   "cell_type": "code",
   "execution_count": 12,
   "id": "7a2f4722",
   "metadata": {
    "scrolled": true
   },
   "outputs": [
    {
     "name": "stdout",
     "output_type": "stream",
     "text": [
      "('Africa', 'Chad', 'Poor')\n",
      "  Country  Air Quality Index  Year Status Continent\n",
      "1    Chad                147  2021   Poor    Africa\n",
      "('Africa', 'Uganda', 'Moderate')\n",
      "  Country  Air Quality Index  Year    Status Continent\n",
      "5  Uganda                 99  2021  Moderate    Africa\n",
      "('Asia', 'Mongolia', 'Poor')\n",
      "    Country  Air Quality Index  Year Status Continent\n",
      "4  Mongolia                107  2021   Poor      Asia\n",
      "('Asia', 'United Arab Emirates', 'Moderate')\n",
      "                Country  Air Quality Index  Year    Status Continent\n",
      "6  United Arab Emirates                 95  2021  Moderate      Asia\n",
      "('Central Asia', 'Kyrgyzstan', 'Moderate')\n",
      "      Country  Air Quality Index  Year    Status     Continent\n",
      "9  Kyrgyzstan                 61  2021  Moderate  Central Asia\n",
      "('Central Asia', 'Tajikistan', 'Poor')\n",
      "      Country  Air Quality Index  Year Status     Continent\n",
      "3  Tajikistan                116  2021   Poor  Central Asia\n",
      "('Central Asia', 'Uzbekistan', 'Moderate')\n",
      "      Country  Air Quality Index  Year    Status     Continent\n",
      "7  Uzbekistan                 90  2021  Moderate  Central Asia\n",
      "('South Asia', 'Bangladesh', 'Poor')\n",
      "      Country  Air Quality Index  Year Status   Continent\n",
      "0  Bangladesh                173  2021   Poor  South Asia\n",
      "('South Asia', 'India', 'Moderate')\n",
      "  Country  Air Quality Index  Year    Status   Continent\n",
      "8   India                 88  2021  Moderate  South Asia\n",
      "('South Asia', 'Pakistan', 'Poor')\n",
      "    Country  Air Quality Index  Year Status   Continent\n",
      "2  Pakistan                131  2021   Poor  South Asia\n"
     ]
    }
   ],
   "source": [
    "# Creating group based on three columns using pandas groupby method\n",
    "groups = df.groupby([\"Continent\",\"Country\",\"Status\"])\n",
    "\n",
    "# Iterating over groups using for loop\n",
    "for continent,value in groups:\n",
    "    print(continent)\n",
    "    print(value)\n",
    "    print"
   ]
  },
  {
   "cell_type": "code",
   "execution_count": 13,
   "id": "1f7499bf",
   "metadata": {},
   "outputs": [
    {
     "data": {
      "text/plain": [
       "Continent\n",
       "Africa          123.0\n",
       "Asia            101.0\n",
       "Central Asia     89.0\n",
       "South Asia      130.7\n",
       "Name: Air Quality Index, dtype: float64"
      ]
     },
     "execution_count": 13,
     "metadata": {},
     "output_type": "execute_result"
    }
   ],
   "source": [
    "# Producing Pandas Series\n",
    "# Using 'mean()' method to find the average air quality index for each continent\n",
    "# Rounding the mean using 'round()' fiunction\n",
    "round(df.groupby('Continent')['Air Quality Index'].mean(), 1)"
   ]
  },
  {
   "cell_type": "code",
   "execution_count": 14,
   "id": "3765dbd6",
   "metadata": {},
   "outputs": [
    {
     "data": {
      "text/html": [
       "<div>\n",
       "<style scoped>\n",
       "    .dataframe tbody tr th:only-of-type {\n",
       "        vertical-align: middle;\n",
       "    }\n",
       "\n",
       "    .dataframe tbody tr th {\n",
       "        vertical-align: top;\n",
       "    }\n",
       "\n",
       "    .dataframe thead th {\n",
       "        text-align: right;\n",
       "    }\n",
       "</style>\n",
       "<table border=\"1\" class=\"dataframe\">\n",
       "  <thead>\n",
       "    <tr style=\"text-align: right;\">\n",
       "      <th></th>\n",
       "      <th>count</th>\n",
       "      <th>mean</th>\n",
       "      <th>std</th>\n",
       "      <th>min</th>\n",
       "      <th>25%</th>\n",
       "      <th>50%</th>\n",
       "      <th>75%</th>\n",
       "      <th>max</th>\n",
       "    </tr>\n",
       "    <tr>\n",
       "      <th>Continent</th>\n",
       "      <th></th>\n",
       "      <th></th>\n",
       "      <th></th>\n",
       "      <th></th>\n",
       "      <th></th>\n",
       "      <th></th>\n",
       "      <th></th>\n",
       "      <th></th>\n",
       "    </tr>\n",
       "  </thead>\n",
       "  <tbody>\n",
       "    <tr>\n",
       "      <th>Africa</th>\n",
       "      <td>2.0</td>\n",
       "      <td>123.000000</td>\n",
       "      <td>33.941125</td>\n",
       "      <td>99.0</td>\n",
       "      <td>111.0</td>\n",
       "      <td>123.0</td>\n",
       "      <td>135.0</td>\n",
       "      <td>147.0</td>\n",
       "    </tr>\n",
       "    <tr>\n",
       "      <th>Asia</th>\n",
       "      <td>2.0</td>\n",
       "      <td>101.000000</td>\n",
       "      <td>8.485281</td>\n",
       "      <td>95.0</td>\n",
       "      <td>98.0</td>\n",
       "      <td>101.0</td>\n",
       "      <td>104.0</td>\n",
       "      <td>107.0</td>\n",
       "    </tr>\n",
       "    <tr>\n",
       "      <th>Central Asia</th>\n",
       "      <td>3.0</td>\n",
       "      <td>89.000000</td>\n",
       "      <td>27.513633</td>\n",
       "      <td>61.0</td>\n",
       "      <td>75.5</td>\n",
       "      <td>90.0</td>\n",
       "      <td>103.0</td>\n",
       "      <td>116.0</td>\n",
       "    </tr>\n",
       "    <tr>\n",
       "      <th>South Asia</th>\n",
       "      <td>3.0</td>\n",
       "      <td>130.666667</td>\n",
       "      <td>42.500980</td>\n",
       "      <td>88.0</td>\n",
       "      <td>109.5</td>\n",
       "      <td>131.0</td>\n",
       "      <td>152.0</td>\n",
       "      <td>173.0</td>\n",
       "    </tr>\n",
       "  </tbody>\n",
       "</table>\n",
       "</div>"
      ],
      "text/plain": [
       "              count        mean        std   min    25%    50%    75%    max\n",
       "Continent                                                                   \n",
       "Africa          2.0  123.000000  33.941125  99.0  111.0  123.0  135.0  147.0\n",
       "Asia            2.0  101.000000   8.485281  95.0   98.0  101.0  104.0  107.0\n",
       "Central Asia    3.0   89.000000  27.513633  61.0   75.5   90.0  103.0  116.0\n",
       "South Asia      3.0  130.666667  42.500980  88.0  109.5  131.0  152.0  173.0"
      ]
     },
     "execution_count": 14,
     "metadata": {},
     "output_type": "execute_result"
    }
   ],
   "source": [
    "# Using describe function over each continents' air quality indexes\n",
    "df.groupby('Continent')['Air Quality Index'].describe()"
   ]
  },
  {
   "cell_type": "code",
   "execution_count": 15,
   "id": "4bd2a954",
   "metadata": {},
   "outputs": [
    {
     "name": "stdout",
     "output_type": "stream",
     "text": [
      "                Country  Air Quality Index  Year    Status     Continent\n",
      "0            Bangladesh                173  2021      Poor    South Asia\n",
      "1                  Chad                147  2021      Poor        Africa\n",
      "2              Pakistan                131  2021      Poor    South Asia\n",
      "3            Tajikistan                116  2021      Poor  Central Asia\n",
      "4              Mongolia                107  2021      Poor          Asia\n",
      "5                Uganda                 99  2021  Moderate        Africa\n",
      "6  United Arab Emirates                 95  2021  Moderate          Asia\n",
      "7            Uzbekistan                 90  2021  Moderate  Central Asia\n",
      "8                 India                 88  2021  Moderate    South Asia\n",
      "9            Kyrgyzstan                 61  2021  Moderate  Central Asia\n"
     ]
    }
   ],
   "source": [
    "df.groupby('Continent')['Air Quality Index'].sum()\n",
    "print(df)"
   ]
  },
  {
   "cell_type": "code",
   "execution_count": 16,
   "id": "063bd4ed",
   "metadata": {},
   "outputs": [
    {
     "name": "stdout",
     "output_type": "stream",
     "text": [
      "Continent     Status  \n",
      "Africa        Moderate    50.000000\n",
      "              Poor        50.000000\n",
      "Asia          Moderate    50.000000\n",
      "              Poor        50.000000\n",
      "Central Asia  Moderate    66.666667\n",
      "              Poor        33.333333\n",
      "South Asia    Moderate    33.333333\n",
      "              Poor        66.666667\n",
      "dtype: float64\n"
     ]
    }
   ],
   "source": [
    "# Creating groups by three columns\n",
    "# Applying 'size()' property to represent the number of elements in this object\n",
    "groups = df.groupby([\"Continent\",\"Status\"]).size()\n",
    "\n",
    "# Calculating the percentage on the level of status for each continent using lambda function\n",
    "perc = groups.groupby(level=0).apply(lambda x:100*x/float(x.sum()))\n",
    "\n",
    "# Showing the result\n",
    "print(perc)\n"
   ]
  },
  {
   "cell_type": "code",
   "execution_count": 17,
   "id": "2c8fc979",
   "metadata": {},
   "outputs": [
    {
     "name": "stdout",
     "output_type": "stream",
     "text": [
      "                  Air Quality Index                 \n",
      "                               amin        mean amax\n",
      "Continent    Year                                   \n",
      "Africa       2021                99  123.000000  147\n",
      "Asia         2021                95  101.000000  107\n",
      "Central Asia 2021                61   89.000000  116\n",
      "South Asia   2021                88  130.666667  173\n"
     ]
    }
   ],
   "source": [
    "# Importing pandas \n",
    "import pandas as pd\n",
    "\n",
    "# Importing numpy\n",
    "import numpy as np\n",
    "\n",
    "# Using multiple aggregations like min(),mean(),max()\n",
    "agg = df.groupby([\"Continent\",\"Year\"]).agg([np.min,np.mean,np.max])\n",
    "\n",
    "# Printing the result\n",
    "print(agg)"
   ]
  },
  {
   "cell_type": "code",
   "execution_count": 78,
   "id": "a3bd1ff1",
   "metadata": {},
   "outputs": [
    {
     "data": {
      "text/html": [
       "<div>\n",
       "<style scoped>\n",
       "    .dataframe tbody tr th:only-of-type {\n",
       "        vertical-align: middle;\n",
       "    }\n",
       "\n",
       "    .dataframe tbody tr th {\n",
       "        vertical-align: top;\n",
       "    }\n",
       "\n",
       "    .dataframe thead th {\n",
       "        text-align: right;\n",
       "    }\n",
       "</style>\n",
       "<table border=\"1\" class=\"dataframe\">\n",
       "  <thead>\n",
       "    <tr style=\"text-align: right;\">\n",
       "      <th></th>\n",
       "      <th>Air Quality Index</th>\n",
       "    </tr>\n",
       "    <tr>\n",
       "      <th>Continent</th>\n",
       "      <th></th>\n",
       "    </tr>\n",
       "  </thead>\n",
       "  <tbody>\n",
       "    <tr>\n",
       "      <th>Africa</th>\n",
       "      <td>123.000000</td>\n",
       "    </tr>\n",
       "    <tr>\n",
       "      <th>Asia</th>\n",
       "      <td>101.000000</td>\n",
       "    </tr>\n",
       "    <tr>\n",
       "      <th>Central Asia</th>\n",
       "      <td>89.000000</td>\n",
       "    </tr>\n",
       "    <tr>\n",
       "      <th>South Asia</th>\n",
       "      <td>130.666667</td>\n",
       "    </tr>\n",
       "  </tbody>\n",
       "</table>\n",
       "</div>"
      ],
      "text/plain": [
       "              Air Quality Index\n",
       "Continent                      \n",
       "Africa               123.000000\n",
       "Asia                 101.000000\n",
       "Central Asia          89.000000\n",
       "South Asia           130.666667"
      ]
     },
     "execution_count": 78,
     "metadata": {},
     "output_type": "execute_result"
    }
   ],
   "source": [
    "# Importing pandas \n",
    "import pandas as pd\n",
    "\n",
    "# Reading dataset\n",
    "df = pd.read_csv(\"AQ.csv\")\n",
    "\n",
    "# Applying filter() method to our dataset\n",
    "groups = df.filter(['Continent', 'Air Quality Index'])\n",
    "\n",
    "# Gtouping the continent \n",
    "groups.groupby(\"Continent\").mean()\n",
    "\n"
   ]
  },
  {
   "cell_type": "code",
   "execution_count": 106,
   "id": "8a48fbed",
   "metadata": {},
   "outputs": [
    {
     "name": "stdout",
     "output_type": "stream",
     "text": [
      "0    86.5\n",
      "1    73.5\n",
      "2    65.5\n",
      "3    58.0\n",
      "4    53.5\n",
      "5    49.5\n",
      "6    47.5\n",
      "7    45.0\n",
      "8    44.0\n",
      "9    30.5\n",
      "Name: Air Quality Index, dtype: float64\n"
     ]
    }
   ],
   "source": [
    "# Defining function of square \n",
    "def function(x):\n",
    "    return x/2\n",
    "\n",
    "# Getting air quality index from a data frame\n",
    "AQI = df['Air Quality Index']\n",
    "\n",
    "# Using transfor function over air quality index\n",
    "print(AQI.transform(function))"
   ]
  },
  {
   "cell_type": "code",
   "execution_count": 108,
   "id": "40e26ff6",
   "metadata": {},
   "outputs": [
    {
     "name": "stdout",
     "output_type": "stream",
     "text": [
      "0    85\n",
      "1    48\n",
      "2    43\n",
      "3    55\n",
      "4    12\n",
      "5     0\n",
      "6     0\n",
      "7    29\n",
      "8     0\n",
      "9     0\n",
      "Name: Air Quality Index, dtype: int64\n"
     ]
    }
   ],
   "source": [
    "AQI = df.groupby(['Continent'])['Air Quality Index'].apply(lambda x: x - x.min())\n",
    "print(AQI)"
   ]
  },
  {
   "cell_type": "code",
   "execution_count": 132,
   "id": "2dff44d8",
   "metadata": {},
   "outputs": [
    {
     "name": "stdout",
     "output_type": "stream",
     "text": [
      "   Unnamed: 0     Continent  0\n",
      "0           0        Africa  2\n",
      "1           1          Asia  2\n",
      "2           2  Central Asia  3\n",
      "3           3    South Asia  3\n"
     ]
    }
   ],
   "source": [
    "# Importing pandas\n",
    "import pandas as pd\n",
    "\n",
    "# Reading our datset\n",
    "df = pd.read_csv(\"AQ.csv\")\n",
    "\n",
    "# Grouping by the continent\n",
    "groups = df.groupby(['Continent'])\n",
    "\n",
    "# Resetting index and finding size of the elements in each continent\n",
    "my_df = groups.size().reset_index()\n",
    "\n",
    "# Converting groupby to csv file using to_csv function\n",
    "my_df.to_csv(\"grouped_file.csv\", index = True)\n",
    "\n",
    "# Checking saved file \n",
    "check = pd.read_csv(\"grouped_file.csv\")\n",
    "print(check)"
   ]
  },
  {
   "cell_type": "code",
   "execution_count": 133,
   "id": "ef4e7241",
   "metadata": {},
   "outputs": [
    {
     "name": "stdout",
     "output_type": "stream",
     "text": [
      "   Unnamed: 0     Continent  0\n",
      "0           0        Africa  2\n",
      "1           1          Asia  2\n",
      "2           2  Central Asia  3\n",
      "3           3    South Asia  3\n"
     ]
    }
   ],
   "source": [
    "# Importing pandas\n",
    "import pandas as pd\n",
    "\n",
    "# Reading our datset\n",
    "df = pd.read_csv(\"AQ.csv\")\n",
    "\n",
    "# Grouping by the continent\n",
    "groups = df.groupby(['Continent'])\n",
    "\n",
    "# Resetting index and finding size of the elements in each continent\n",
    "my_df = groups.size().reset_index()\n",
    "\n",
    "# Converting groupby to excel file using to_xlsx function\n",
    "my_df.to_excel(\"grouped_file.xlsx\", index = False)\n",
    "\n",
    "# Checking saved file\n",
    "check = pd.read_csv(\"grouped_file.csv\")\n",
    "print(check)"
   ]
  }
 ],
 "metadata": {
  "kernelspec": {
   "display_name": "Python 3 (ipykernel)",
   "language": "python",
   "name": "python3"
  },
  "language_info": {
   "codemirror_mode": {
    "name": "ipython",
    "version": 3
   },
   "file_extension": ".py",
   "mimetype": "text/x-python",
   "name": "python",
   "nbconvert_exporter": "python",
   "pygments_lexer": "ipython3",
   "version": "3.9.7"
  }
 },
 "nbformat": 4,
 "nbformat_minor": 5
}
